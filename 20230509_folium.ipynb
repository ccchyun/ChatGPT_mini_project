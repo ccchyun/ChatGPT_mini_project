{
  "nbformat": 4,
  "nbformat_minor": 0,
  "metadata": {
    "colab": {
      "provenance": []
    },
    "kernelspec": {
      "name": "python3",
      "display_name": "Python 3"
    },
    "language_info": {
      "name": "python"
    }
  },
  "cells": [
    {
      "cell_type": "code",
      "execution_count": null,
      "metadata": {
        "id": "zIw37uYpvqDu"
      },
      "outputs": [],
      "source": [
        "!pip install folium"
      ]
    },
    {
      "cell_type": "code",
      "source": [
        "import folium\n",
        "from folium import plugins\n",
        "import os"
      ],
      "metadata": {
        "id": "sMjH7Ss_vqk6"
      },
      "execution_count": null,
      "outputs": []
    },
    {
      "cell_type": "code",
      "source": [
        "gjplace = list([folium.Map(location=[35.1767037, 126.8550269], zoom_start=16),   #광주송정역사공원\n",
        "               folium.Map(location=[35.1596706, 126.8517677], zoom_start=16),    #광주호호수공원\n",
        "               folium.Map(location=[35.1603957, 126.8512996], zoom_start=16),     #아시아문화전당\n",
        "               folium.Map(location=[35.1100967, 126.7208198], zoom_start=16)])   #광주국제자동차경주장\n",
        "\n",
        "print(\"광주송정역사공원 : 1, 광주호호수공원 : 2, 아시아문화전당 : 3, 광주국제자동차경주장 : 4\")\n",
        "\n",
        "try:\n",
        "  place = int(input(\"원하는 관광지를 골라주세요(숫자로 입력) : \"))\n",
        "  if place in [1, 2, 3, 4]:\n",
        "    display(gjplace[(place-1)])\n",
        "  else:\n",
        "    print(\"올바른 번호를 입력하시오.\")\n",
        "\n",
        "except:\n",
        "  print(\"올바른 숫자를 입력하시오.\")\n",
        "\n"
      ],
      "metadata": {
        "id": "CQPGX3D65x0H"
      },
      "execution_count": null,
      "outputs": []
    },
    {
      "cell_type": "code",
      "source": [],
      "metadata": {
        "id": "Jvwnmhlu_6G0"
      },
      "execution_count": null,
      "outputs": []
    }
  ]
}