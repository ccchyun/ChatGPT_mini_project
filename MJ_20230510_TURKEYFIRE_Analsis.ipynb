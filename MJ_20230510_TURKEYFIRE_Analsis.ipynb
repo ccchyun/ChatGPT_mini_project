{
  "nbformat": 4,
  "nbformat_minor": 0,
  "metadata": {
    "colab": {
      "provenance": []
    },
    "kernelspec": {
      "name": "python3",
      "display_name": "Python 3"
    },
    "language_info": {
      "name": "python"
    }
  },
  "cells": [
    {
      "cell_type": "markdown",
      "source": [
        "### 2000년부터 2021년까지 발생한 튀르키에 화재 데이터 셋 분석"
      ],
      "metadata": {
        "id": "V-TdNFp_IpFx"
      }
    },
    {
      "cell_type": "markdown",
      "source": [
        "  * 사용한 데이터 셋\n",
        "   * https://www.kaggle.com/datasets/brsdincer/20002021-turkey-fire-points-single-csv-nasa"
      ],
      "metadata": {
        "id": "ILWA6KLxV3-q"
      }
    },
    {
      "cell_type": "code",
      "source": [
        "!pip install folium"
      ],
      "metadata": {
        "colab": {
          "base_uri": "https://localhost:8080/"
        },
        "id": "4jP4i0NmNA-A",
        "outputId": "1de84ee4-f6e6-44ef-9153-7a93be482dad"
      },
      "execution_count": 66,
      "outputs": [
        {
          "output_type": "stream",
          "name": "stdout",
          "text": [
            "Looking in indexes: https://pypi.org/simple, https://us-python.pkg.dev/colab-wheels/public/simple/\n",
            "Requirement already satisfied: folium in /usr/local/lib/python3.10/dist-packages (0.14.0)\n",
            "Requirement already satisfied: branca>=0.6.0 in /usr/local/lib/python3.10/dist-packages (from folium) (0.6.0)\n",
            "Requirement already satisfied: jinja2>=2.9 in /usr/local/lib/python3.10/dist-packages (from folium) (3.1.2)\n",
            "Requirement already satisfied: numpy in /usr/local/lib/python3.10/dist-packages (from folium) (1.22.4)\n",
            "Requirement already satisfied: requests in /usr/local/lib/python3.10/dist-packages (from folium) (2.27.1)\n",
            "Requirement already satisfied: MarkupSafe>=2.0 in /usr/local/lib/python3.10/dist-packages (from jinja2>=2.9->folium) (2.1.2)\n",
            "Requirement already satisfied: urllib3<1.27,>=1.21.1 in /usr/local/lib/python3.10/dist-packages (from requests->folium) (1.26.15)\n",
            "Requirement already satisfied: certifi>=2017.4.17 in /usr/local/lib/python3.10/dist-packages (from requests->folium) (2022.12.7)\n",
            "Requirement already satisfied: charset-normalizer~=2.0.0 in /usr/local/lib/python3.10/dist-packages (from requests->folium) (2.0.12)\n",
            "Requirement already satisfied: idna<4,>=2.5 in /usr/local/lib/python3.10/dist-packages (from requests->folium) (3.4)\n"
          ]
        }
      ]
    },
    {
      "cell_type": "code",
      "execution_count": 67,
      "metadata": {
        "id": "k-AAPimKNK4p"
      },
      "outputs": [],
      "source": [
        "import pandas as pd\n",
        "import seaborn as sns\n",
        "import matplotlib.pyplot as plt\n",
        "import matplotlib\n",
        "import folium\n",
        "from folium import plugins\n",
        "import os"
      ]
    },
    {
      "cell_type": "code",
      "source": [
        "# CSV 파일 경로 지정\n",
        "file_path = \"/content/2000-2021_SINGLE_TURKEY_FIRE_M-C61_214067.csv\"\n",
        "\n",
        "# CSV 파일 불러오기\n",
        "df = pd.read_csv(file_path)\n",
        "df.shape"
      ],
      "metadata": {
        "colab": {
          "base_uri": "https://localhost:8080/"
        },
        "id": "QeLgTTssNRbc",
        "outputId": "c7135414-7d1a-41c3-eb72-17debd8e26ee"
      },
      "execution_count": null,
      "outputs": [
        {
          "output_type": "stream",
          "name": "stderr",
          "text": [
            "<ipython-input-21-a38c2d82c252>:5: DtypeWarning: Columns (10) have mixed types. Specify dtype option on import or set low_memory=False.\n",
            "  df = pd.read_csv(file_path)\n"
          ]
        },
        {
          "output_type": "execute_result",
          "data": {
            "text/plain": [
              "(211309, 15)"
            ]
          },
          "metadata": {},
          "execution_count": 21
        }
      ]
    },
    {
      "cell_type": "code",
      "source": [
        "# 데이터 정보 확인\n",
        "\n",
        "df.info()"
      ],
      "metadata": {
        "colab": {
          "base_uri": "https://localhost:8080/"
        },
        "id": "l6UOsjH75suD",
        "outputId": "798b3074-f692-419b-b186-11beb6acb99c"
      },
      "execution_count": null,
      "outputs": [
        {
          "output_type": "stream",
          "name": "stdout",
          "text": [
            "<class 'pandas.core.frame.DataFrame'>\n",
            "RangeIndex: 211309 entries, 0 to 211308\n",
            "Data columns (total 15 columns):\n",
            " #   Column      Non-Null Count   Dtype  \n",
            "---  ------      --------------   -----  \n",
            " 0   latitude    211309 non-null  float64\n",
            " 1   longitude   211309 non-null  float64\n",
            " 2   brightness  211309 non-null  float64\n",
            " 3   scan        211309 non-null  float64\n",
            " 4   track       211309 non-null  float64\n",
            " 5   acq_date    211309 non-null  object \n",
            " 6   acq_time    211309 non-null  int64  \n",
            " 7   satellite   211309 non-null  object \n",
            " 8   instrument  211309 non-null  object \n",
            " 9   confidence  211309 non-null  int64  \n",
            " 10  version     211309 non-null  object \n",
            " 11  bright_t31  211309 non-null  float64\n",
            " 12  frp         211309 non-null  float64\n",
            " 13  daynight    211309 non-null  object \n",
            " 14  type        205918 non-null  float64\n",
            "dtypes: float64(8), int64(2), object(5)\n",
            "memory usage: 24.2+ MB\n"
          ]
        }
      ]
    },
    {
      "cell_type": "code",
      "source": [
        "# 데이터의 요소들 확인\n",
        "\n",
        "df.columns"
      ],
      "metadata": {
        "colab": {
          "base_uri": "https://localhost:8080/"
        },
        "id": "wHMd0JtZOY_t",
        "outputId": "9f9273eb-5884-4d56-fc7b-dc049381aa7f"
      },
      "execution_count": null,
      "outputs": [
        {
          "output_type": "execute_result",
          "data": {
            "text/plain": [
              "Index(['latitude', 'longitude', 'brightness', 'scan', 'track', 'acq_date',\n",
              "       'acq_time', 'satellite', 'instrument', 'confidence', 'version',\n",
              "       'bright_t31', 'frp', 'daynight', 'type'],\n",
              "      dtype='object')"
            ]
          },
          "metadata": {},
          "execution_count": 23
        }
      ]
    },
    {
      "cell_type": "code",
      "source": [
        "# 데이터의 결측치 확인\n",
        "\n",
        "df.isnull().sum()"
      ],
      "metadata": {
        "colab": {
          "base_uri": "https://localhost:8080/"
        },
        "id": "NzFb8sQjPFxr",
        "outputId": "2c2450bc-dc69-437a-a8b2-015cc5a352e4"
      },
      "execution_count": null,
      "outputs": [
        {
          "output_type": "execute_result",
          "data": {
            "text/plain": [
              "latitude         0\n",
              "longitude        0\n",
              "brightness       0\n",
              "scan             0\n",
              "track            0\n",
              "acq_date         0\n",
              "acq_time         0\n",
              "satellite        0\n",
              "instrument       0\n",
              "confidence       0\n",
              "version          0\n",
              "bright_t31       0\n",
              "frp              0\n",
              "daynight         0\n",
              "type          5391\n",
              "dtype: int64"
            ]
          },
          "metadata": {},
          "execution_count": 24
        }
      ]
    },
    {
      "cell_type": "markdown",
      "source": [
        "  * latitude: 화재가 발생한 위도\n",
        "  * longitude: 화재가 발생한 경도\n",
        "  * brightness: 화재의 밝기 (기준: Kelvin)\n",
        "  * scan: 화상 센서가 한 번 스캔한 거리 (기준: 1km)\n",
        "  * track: 화상 센서가 한 번 스캔한 선의 수 (일반적으로 1km 내외)\n",
        "  * acq_date: 화재가 감지된 날짜 (YYYY-MM-DD 형식)\n",
        "  * acq_time: 화재가 감지된 시각 (hh:mm:ss 형식)\n",
        "  * satellite: 데이터를 수집한 위성의 이름 (Terra or Aqua)\n",
        "  * instrument: 위성의 센서 이름 (MODIS: Moderate Resolution Imaging Spectroradiometer)\n",
        "  * confidence: 화재 감지의 확신도 (0~100 사이의 값)\n",
        "  * version: 데이터셋 버전\n",
        "  * bright_t31: 화재 위치의 대기 온도 (기준: Kelvin)\n",
        "  * frp: 화재의 전력 (기준: Megawatts)\n",
        "  * daynight: 화재가 낮인지 밤인지를 나타내는 값 (D: Day, N: Night)\n",
        "  * type: 화재 타입 (Wildfire, Prescribed fire, or Undefined)"
      ],
      "metadata": {
        "id": "AUS-_fql_idD"
      }
    },
    {
      "cell_type": "code",
      "source": [
        "# 데이터셋 확인\n",
        "\n",
        "df"
      ],
      "metadata": {
        "colab": {
          "base_uri": "https://localhost:8080/",
          "height": 661
        },
        "id": "1Tn2C1cn36k0",
        "outputId": "75c19821-d88d-4316-f3a1-6543b45da35a"
      },
      "execution_count": null,
      "outputs": [
        {
          "output_type": "execute_result",
          "data": {
            "text/plain": [
              "        latitude  longitude  brightness  scan  track    acq_date  acq_time  \\\n",
              "0       36.85270   35.35940      306.00  2.10   1.40  2000-11-01       815   \n",
              "1       40.54410   35.17860      307.80  1.10   1.00  2000-11-02       857   \n",
              "2       40.14730   35.04440      305.30  1.10   1.00  2000-11-02       857   \n",
              "3       40.54210   35.19090      310.00  1.10   1.00  2000-11-02       857   \n",
              "4       41.25690   31.41720      307.90  1.10   1.00  2000-11-02       857   \n",
              "...          ...        ...         ...   ...    ...         ...       ...   \n",
              "211304  37.30414   43.69511      330.30  1.02   1.01  2021-08-10      1011   \n",
              "211305  37.05791   27.28960      327.24  1.96   1.37  2021-08-10      1149   \n",
              "211306  38.64441   27.08695      341.95  2.00   1.38  2021-08-10      1149   \n",
              "211307  37.05018   28.84606      342.40  2.48   1.52  2021-08-10      1149   \n",
              "211308  37.05605   27.26775      371.20  1.96   1.37  2021-08-10      1149   \n",
              "\n",
              "       satellite instrument  confidence version  bright_t31     frp daynight  \\\n",
              "0          Terra      MODIS          60    6.03      294.40   13.20        D   \n",
              "1          Terra      MODIS          66    6.03      296.00    5.80        D   \n",
              "2          Terra      MODIS          46    6.03      293.50    4.30        D   \n",
              "3          Terra      MODIS          69    6.03      296.10    7.30        D   \n",
              "4          Terra      MODIS           0    6.03      290.40    8.00        D   \n",
              "...          ...        ...         ...     ...         ...     ...      ...   \n",
              "211304      Aqua      MODIS          38  6.1NRT      317.58   10.66        D   \n",
              "211305      Aqua      MODIS          74  6.1NRT      310.40   28.20        D   \n",
              "211306      Aqua      MODIS          88  6.1NRT      310.96   86.83        D   \n",
              "211307      Aqua      MODIS          90  6.1NRT      306.95  142.05        D   \n",
              "211308      Aqua      MODIS          75  6.1NRT      313.86  280.96        D   \n",
              "\n",
              "        type  \n",
              "0        0.0  \n",
              "1        0.0  \n",
              "2        0.0  \n",
              "3        0.0  \n",
              "4        2.0  \n",
              "...      ...  \n",
              "211304   NaN  \n",
              "211305   NaN  \n",
              "211306   NaN  \n",
              "211307   NaN  \n",
              "211308   NaN  \n",
              "\n",
              "[211309 rows x 15 columns]"
            ],
            "text/html": [
              "\n",
              "  <div id=\"df-c99c69a4-ab11-4d58-ad6f-6838b2c25f1e\">\n",
              "    <div class=\"colab-df-container\">\n",
              "      <div>\n",
              "<style scoped>\n",
              "    .dataframe tbody tr th:only-of-type {\n",
              "        vertical-align: middle;\n",
              "    }\n",
              "\n",
              "    .dataframe tbody tr th {\n",
              "        vertical-align: top;\n",
              "    }\n",
              "\n",
              "    .dataframe thead th {\n",
              "        text-align: right;\n",
              "    }\n",
              "</style>\n",
              "<table border=\"1\" class=\"dataframe\">\n",
              "  <thead>\n",
              "    <tr style=\"text-align: right;\">\n",
              "      <th></th>\n",
              "      <th>latitude</th>\n",
              "      <th>longitude</th>\n",
              "      <th>brightness</th>\n",
              "      <th>scan</th>\n",
              "      <th>track</th>\n",
              "      <th>acq_date</th>\n",
              "      <th>acq_time</th>\n",
              "      <th>satellite</th>\n",
              "      <th>instrument</th>\n",
              "      <th>confidence</th>\n",
              "      <th>version</th>\n",
              "      <th>bright_t31</th>\n",
              "      <th>frp</th>\n",
              "      <th>daynight</th>\n",
              "      <th>type</th>\n",
              "    </tr>\n",
              "  </thead>\n",
              "  <tbody>\n",
              "    <tr>\n",
              "      <th>0</th>\n",
              "      <td>36.85270</td>\n",
              "      <td>35.35940</td>\n",
              "      <td>306.00</td>\n",
              "      <td>2.10</td>\n",
              "      <td>1.40</td>\n",
              "      <td>2000-11-01</td>\n",
              "      <td>815</td>\n",
              "      <td>Terra</td>\n",
              "      <td>MODIS</td>\n",
              "      <td>60</td>\n",
              "      <td>6.03</td>\n",
              "      <td>294.40</td>\n",
              "      <td>13.20</td>\n",
              "      <td>D</td>\n",
              "      <td>0.0</td>\n",
              "    </tr>\n",
              "    <tr>\n",
              "      <th>1</th>\n",
              "      <td>40.54410</td>\n",
              "      <td>35.17860</td>\n",
              "      <td>307.80</td>\n",
              "      <td>1.10</td>\n",
              "      <td>1.00</td>\n",
              "      <td>2000-11-02</td>\n",
              "      <td>857</td>\n",
              "      <td>Terra</td>\n",
              "      <td>MODIS</td>\n",
              "      <td>66</td>\n",
              "      <td>6.03</td>\n",
              "      <td>296.00</td>\n",
              "      <td>5.80</td>\n",
              "      <td>D</td>\n",
              "      <td>0.0</td>\n",
              "    </tr>\n",
              "    <tr>\n",
              "      <th>2</th>\n",
              "      <td>40.14730</td>\n",
              "      <td>35.04440</td>\n",
              "      <td>305.30</td>\n",
              "      <td>1.10</td>\n",
              "      <td>1.00</td>\n",
              "      <td>2000-11-02</td>\n",
              "      <td>857</td>\n",
              "      <td>Terra</td>\n",
              "      <td>MODIS</td>\n",
              "      <td>46</td>\n",
              "      <td>6.03</td>\n",
              "      <td>293.50</td>\n",
              "      <td>4.30</td>\n",
              "      <td>D</td>\n",
              "      <td>0.0</td>\n",
              "    </tr>\n",
              "    <tr>\n",
              "      <th>3</th>\n",
              "      <td>40.54210</td>\n",
              "      <td>35.19090</td>\n",
              "      <td>310.00</td>\n",
              "      <td>1.10</td>\n",
              "      <td>1.00</td>\n",
              "      <td>2000-11-02</td>\n",
              "      <td>857</td>\n",
              "      <td>Terra</td>\n",
              "      <td>MODIS</td>\n",
              "      <td>69</td>\n",
              "      <td>6.03</td>\n",
              "      <td>296.10</td>\n",
              "      <td>7.30</td>\n",
              "      <td>D</td>\n",
              "      <td>0.0</td>\n",
              "    </tr>\n",
              "    <tr>\n",
              "      <th>4</th>\n",
              "      <td>41.25690</td>\n",
              "      <td>31.41720</td>\n",
              "      <td>307.90</td>\n",
              "      <td>1.10</td>\n",
              "      <td>1.00</td>\n",
              "      <td>2000-11-02</td>\n",
              "      <td>857</td>\n",
              "      <td>Terra</td>\n",
              "      <td>MODIS</td>\n",
              "      <td>0</td>\n",
              "      <td>6.03</td>\n",
              "      <td>290.40</td>\n",
              "      <td>8.00</td>\n",
              "      <td>D</td>\n",
              "      <td>2.0</td>\n",
              "    </tr>\n",
              "    <tr>\n",
              "      <th>...</th>\n",
              "      <td>...</td>\n",
              "      <td>...</td>\n",
              "      <td>...</td>\n",
              "      <td>...</td>\n",
              "      <td>...</td>\n",
              "      <td>...</td>\n",
              "      <td>...</td>\n",
              "      <td>...</td>\n",
              "      <td>...</td>\n",
              "      <td>...</td>\n",
              "      <td>...</td>\n",
              "      <td>...</td>\n",
              "      <td>...</td>\n",
              "      <td>...</td>\n",
              "      <td>...</td>\n",
              "    </tr>\n",
              "    <tr>\n",
              "      <th>211304</th>\n",
              "      <td>37.30414</td>\n",
              "      <td>43.69511</td>\n",
              "      <td>330.30</td>\n",
              "      <td>1.02</td>\n",
              "      <td>1.01</td>\n",
              "      <td>2021-08-10</td>\n",
              "      <td>1011</td>\n",
              "      <td>Aqua</td>\n",
              "      <td>MODIS</td>\n",
              "      <td>38</td>\n",
              "      <td>6.1NRT</td>\n",
              "      <td>317.58</td>\n",
              "      <td>10.66</td>\n",
              "      <td>D</td>\n",
              "      <td>NaN</td>\n",
              "    </tr>\n",
              "    <tr>\n",
              "      <th>211305</th>\n",
              "      <td>37.05791</td>\n",
              "      <td>27.28960</td>\n",
              "      <td>327.24</td>\n",
              "      <td>1.96</td>\n",
              "      <td>1.37</td>\n",
              "      <td>2021-08-10</td>\n",
              "      <td>1149</td>\n",
              "      <td>Aqua</td>\n",
              "      <td>MODIS</td>\n",
              "      <td>74</td>\n",
              "      <td>6.1NRT</td>\n",
              "      <td>310.40</td>\n",
              "      <td>28.20</td>\n",
              "      <td>D</td>\n",
              "      <td>NaN</td>\n",
              "    </tr>\n",
              "    <tr>\n",
              "      <th>211306</th>\n",
              "      <td>38.64441</td>\n",
              "      <td>27.08695</td>\n",
              "      <td>341.95</td>\n",
              "      <td>2.00</td>\n",
              "      <td>1.38</td>\n",
              "      <td>2021-08-10</td>\n",
              "      <td>1149</td>\n",
              "      <td>Aqua</td>\n",
              "      <td>MODIS</td>\n",
              "      <td>88</td>\n",
              "      <td>6.1NRT</td>\n",
              "      <td>310.96</td>\n",
              "      <td>86.83</td>\n",
              "      <td>D</td>\n",
              "      <td>NaN</td>\n",
              "    </tr>\n",
              "    <tr>\n",
              "      <th>211307</th>\n",
              "      <td>37.05018</td>\n",
              "      <td>28.84606</td>\n",
              "      <td>342.40</td>\n",
              "      <td>2.48</td>\n",
              "      <td>1.52</td>\n",
              "      <td>2021-08-10</td>\n",
              "      <td>1149</td>\n",
              "      <td>Aqua</td>\n",
              "      <td>MODIS</td>\n",
              "      <td>90</td>\n",
              "      <td>6.1NRT</td>\n",
              "      <td>306.95</td>\n",
              "      <td>142.05</td>\n",
              "      <td>D</td>\n",
              "      <td>NaN</td>\n",
              "    </tr>\n",
              "    <tr>\n",
              "      <th>211308</th>\n",
              "      <td>37.05605</td>\n",
              "      <td>27.26775</td>\n",
              "      <td>371.20</td>\n",
              "      <td>1.96</td>\n",
              "      <td>1.37</td>\n",
              "      <td>2021-08-10</td>\n",
              "      <td>1149</td>\n",
              "      <td>Aqua</td>\n",
              "      <td>MODIS</td>\n",
              "      <td>75</td>\n",
              "      <td>6.1NRT</td>\n",
              "      <td>313.86</td>\n",
              "      <td>280.96</td>\n",
              "      <td>D</td>\n",
              "      <td>NaN</td>\n",
              "    </tr>\n",
              "  </tbody>\n",
              "</table>\n",
              "<p>211309 rows × 15 columns</p>\n",
              "</div>\n",
              "      <button class=\"colab-df-convert\" onclick=\"convertToInteractive('df-c99c69a4-ab11-4d58-ad6f-6838b2c25f1e')\"\n",
              "              title=\"Convert this dataframe to an interactive table.\"\n",
              "              style=\"display:none;\">\n",
              "        \n",
              "  <svg xmlns=\"http://www.w3.org/2000/svg\" height=\"24px\"viewBox=\"0 0 24 24\"\n",
              "       width=\"24px\">\n",
              "    <path d=\"M0 0h24v24H0V0z\" fill=\"none\"/>\n",
              "    <path d=\"M18.56 5.44l.94 2.06.94-2.06 2.06-.94-2.06-.94-.94-2.06-.94 2.06-2.06.94zm-11 1L8.5 8.5l.94-2.06 2.06-.94-2.06-.94L8.5 2.5l-.94 2.06-2.06.94zm10 10l.94 2.06.94-2.06 2.06-.94-2.06-.94-.94-2.06-.94 2.06-2.06.94z\"/><path d=\"M17.41 7.96l-1.37-1.37c-.4-.4-.92-.59-1.43-.59-.52 0-1.04.2-1.43.59L10.3 9.45l-7.72 7.72c-.78.78-.78 2.05 0 2.83L4 21.41c.39.39.9.59 1.41.59.51 0 1.02-.2 1.41-.59l7.78-7.78 2.81-2.81c.8-.78.8-2.07 0-2.86zM5.41 20L4 18.59l7.72-7.72 1.47 1.35L5.41 20z\"/>\n",
              "  </svg>\n",
              "      </button>\n",
              "      \n",
              "  <style>\n",
              "    .colab-df-container {\n",
              "      display:flex;\n",
              "      flex-wrap:wrap;\n",
              "      gap: 12px;\n",
              "    }\n",
              "\n",
              "    .colab-df-convert {\n",
              "      background-color: #E8F0FE;\n",
              "      border: none;\n",
              "      border-radius: 50%;\n",
              "      cursor: pointer;\n",
              "      display: none;\n",
              "      fill: #1967D2;\n",
              "      height: 32px;\n",
              "      padding: 0 0 0 0;\n",
              "      width: 32px;\n",
              "    }\n",
              "\n",
              "    .colab-df-convert:hover {\n",
              "      background-color: #E2EBFA;\n",
              "      box-shadow: 0px 1px 2px rgba(60, 64, 67, 0.3), 0px 1px 3px 1px rgba(60, 64, 67, 0.15);\n",
              "      fill: #174EA6;\n",
              "    }\n",
              "\n",
              "    [theme=dark] .colab-df-convert {\n",
              "      background-color: #3B4455;\n",
              "      fill: #D2E3FC;\n",
              "    }\n",
              "\n",
              "    [theme=dark] .colab-df-convert:hover {\n",
              "      background-color: #434B5C;\n",
              "      box-shadow: 0px 1px 3px 1px rgba(0, 0, 0, 0.15);\n",
              "      filter: drop-shadow(0px 1px 2px rgba(0, 0, 0, 0.3));\n",
              "      fill: #FFFFFF;\n",
              "    }\n",
              "  </style>\n",
              "\n",
              "      <script>\n",
              "        const buttonEl =\n",
              "          document.querySelector('#df-c99c69a4-ab11-4d58-ad6f-6838b2c25f1e button.colab-df-convert');\n",
              "        buttonEl.style.display =\n",
              "          google.colab.kernel.accessAllowed ? 'block' : 'none';\n",
              "\n",
              "        async function convertToInteractive(key) {\n",
              "          const element = document.querySelector('#df-c99c69a4-ab11-4d58-ad6f-6838b2c25f1e');\n",
              "          const dataTable =\n",
              "            await google.colab.kernel.invokeFunction('convertToInteractive',\n",
              "                                                     [key], {});\n",
              "          if (!dataTable) return;\n",
              "\n",
              "          const docLinkHtml = 'Like what you see? Visit the ' +\n",
              "            '<a target=\"_blank\" href=https://colab.research.google.com/notebooks/data_table.ipynb>data table notebook</a>'\n",
              "            + ' to learn more about interactive tables.';\n",
              "          element.innerHTML = '';\n",
              "          dataTable['output_type'] = 'display_data';\n",
              "          await google.colab.output.renderOutput(dataTable, element);\n",
              "          const docLink = document.createElement('div');\n",
              "          docLink.innerHTML = docLinkHtml;\n",
              "          element.appendChild(docLink);\n",
              "        }\n",
              "      </script>\n",
              "    </div>\n",
              "  </div>\n",
              "  "
            ]
          },
          "metadata": {},
          "execution_count": 25
        }
      ]
    },
    {
      "cell_type": "code",
      "source": [
        "# 화재가 발생한 위치\n",
        "\n",
        "from IPython.display import HTML\n",
        "\n",
        "turkey = []\n",
        "\n",
        "#turkey_map = folium.Map(location=[ df['latitude'].mean(), df['longitude'].mean() ], zoom_start=6)\n",
        "loc = folium.Map( location = [36.123, 120.1212])\n",
        "loc\n",
        "\n",
        "plt.subplot(1, 2, 1)\n",
        "sns.scatterplot(x = 'longitude', y = 'latitude', alpha = 0.1, data = df)\n",
        "\n",
        "#turkey_map.save('turkey_map.html')\n",
        "\n",
        "#plt.subplot(1,2,2)\n",
        "#iframe = '<iframe src=' + 'turkey_map.html' + ' width=700 height=350></iframe>'\n",
        "#display(HTML(turkey_map._repr_html_()))\n",
        "\n",
        "### 해결 중"
      ],
      "metadata": {
        "colab": {
          "base_uri": "https://localhost:8080/",
          "height": 248
        },
        "id": "mrMBVCyV4Y5f",
        "outputId": "a1693f6d-8ae2-4615-bf6c-5d9322cdfbf9"
      },
      "execution_count": 79,
      "outputs": [
        {
          "output_type": "error",
          "ename": "TypeError",
          "evalue": "ignored",
          "traceback": [
            "\u001b[0;31m---------------------------------------------------------------------------\u001b[0m",
            "\u001b[0;31mTypeError\u001b[0m                                 Traceback (most recent call last)",
            "\u001b[0;32m<ipython-input-79-4454652e12ba>\u001b[0m in \u001b[0;36m<cell line: 6>\u001b[0;34m()\u001b[0m\n\u001b[1;32m      4\u001b[0m \u001b[0;34m\u001b[0m\u001b[0m\n\u001b[1;32m      5\u001b[0m \u001b[0;31m#turkey_map = folium.Map(location=[ df['latitude'].mean(), df['longitude'].mean() ], zoom_start=6)\u001b[0m\u001b[0;34m\u001b[0m\u001b[0;34m\u001b[0m\u001b[0m\n\u001b[0;32m----> 6\u001b[0;31m \u001b[0mloc\u001b[0m \u001b[0;34m=\u001b[0m \u001b[0mfolium\u001b[0m\u001b[0;34m.\u001b[0m\u001b[0mMap\u001b[0m\u001b[0;34m(\u001b[0m \u001b[0mlocation\u001b[0m \u001b[0;34m=\u001b[0m \u001b[0;34m[\u001b[0m\u001b[0;36m36.123\u001b[0m\u001b[0;34m,\u001b[0m \u001b[0;36m120.1212\u001b[0m\u001b[0;34m]\u001b[0m\u001b[0;34m)\u001b[0m\u001b[0;34m\u001b[0m\u001b[0;34m\u001b[0m\u001b[0m\n\u001b[0m\u001b[1;32m      7\u001b[0m \u001b[0mloc\u001b[0m\u001b[0;34m\u001b[0m\u001b[0;34m\u001b[0m\u001b[0m\n\u001b[1;32m      8\u001b[0m \u001b[0;34m\u001b[0m\u001b[0m\n",
            "\u001b[0;31mTypeError\u001b[0m: 'list' object is not callable"
          ]
        }
      ]
    },
    {
      "cell_type": "markdown",
      "source": [
        "  * 화재가 많이 발생한 지역일수록 진하게 표시\n"
      ],
      "metadata": {
        "id": "G4fg-rFf_Iax"
      }
    },
    {
      "cell_type": "code",
      "source": [
        "# 화재의 전력과 화재의 밝기의 상관관계\n",
        "\n",
        "sns.lmplot(x=\"frp\", y=\"brightness\", data=df)"
      ],
      "metadata": {
        "colab": {
          "base_uri": "https://localhost:8080/",
          "height": 525
        },
        "id": "o53NYsexPeh6",
        "outputId": "465af06b-fe7d-4322-ae87-57cfebf5bf79"
      },
      "execution_count": null,
      "outputs": [
        {
          "output_type": "execute_result",
          "data": {
            "text/plain": [
              "<seaborn.axisgrid.FacetGrid at 0x7f0219e44d60>"
            ]
          },
          "metadata": {},
          "execution_count": 41
        },
        {
          "output_type": "display_data",
          "data": {
            "text/plain": [
              "<Figure size 500x500 with 1 Axes>"
            ],
            "image/png": "[encoded data removed]"
          },
          "metadata": {}
        }
      ]
    },
    {
      "cell_type": "markdown",
      "source": [
        "  * 화재의 전력과 밝기는 양의 상관관계를 갖는다.\n",
        "     * 로그함수적으로 비례하는듯 보인다"
      ],
      "metadata": {
        "id": "iOiJWL9j_R-o"
      }
    },
    {
      "cell_type": "code",
      "source": [
        "# 화재가 발생하는 시간 - 낮, 밤 비교\n",
        "\n",
        "sns.countplot(x='daynight', data = df)"
      ],
      "metadata": {
        "colab": {
          "base_uri": "https://localhost:8080/",
          "height": 467
        },
        "id": "q758Dww8PipL",
        "outputId": "df8e293c-efce-4799-ee88-813181d305c9"
      },
      "execution_count": null,
      "outputs": [
        {
          "output_type": "execute_result",
          "data": {
            "text/plain": [
              "<Axes: xlabel='daynight', ylabel='count'>"
            ]
          },
          "metadata": {},
          "execution_count": 38
        },
        {
          "output_type": "display_data",
          "data": {
            "text/plain": [
              "<Figure size 640x480 with 1 Axes>"
            ],
            "image/png": "[encoded data removed]"
          },
          "metadata": {}
        }
      ]
    },
    {
      "cell_type": "markdown",
      "source": [
        "  * 화재는 낮 시간에 대부분 일어난다\n",
        "    * 왜?"
      ],
      "metadata": {
        "id": "kVZdEbQt9jLa"
      }
    },
    {
      "cell_type": "code",
      "source": [
        "# 화재 타입에 따라 발생하는 빈도 확인\n",
        "\n",
        "sns.countplot(x='type', data = df)"
      ],
      "metadata": {
        "colab": {
          "base_uri": "https://localhost:8080/",
          "height": 471
        },
        "id": "ElqgTlPe-kO1",
        "outputId": "1c6db4bb-e6ed-422f-b50e-97f666b15da3"
      },
      "execution_count": null,
      "outputs": [
        {
          "output_type": "execute_result",
          "data": {
            "text/plain": [
              "<Axes: xlabel='type', ylabel='count'>"
            ]
          },
          "metadata": {},
          "execution_count": 40
        },
        {
          "output_type": "display_data",
          "data": {
            "text/plain": [
              "<Figure size 640x480 with 1 Axes>"
            ],
            "image/png": "[encoded data removed]"
          },
          "metadata": {}
        }
      ]
    },
    {
      "cell_type": "markdown",
      "source": [
        "  * 각각의 타입의 화재가 어느 정도 비중으로 나타나는지 확인\n",
        "   * 0.0 : 정의되지않은 화재 타입\n",
        "    ->(화재가 발생한 위치와 시간 등의 정보는 수집 되었지만 종류에 대한 정보가 충분하지 않음)\n",
        "   * 2.0 : 자연발생산불\n",
        "   * 3.0 : 인위적으로 식물을 태우는 예방적인 화재"
      ],
      "metadata": {
        "id": "zbwdgNIX-obK"
      }
    },
    {
      "cell_type": "markdown",
      "source": [
        "  * 화재 타입에 결측치가 있다"
      ],
      "metadata": {
        "id": "frGLjLgAGg4w"
      }
    },
    {
      "cell_type": "code",
      "source": [
        "# 데이터 타입을 그룹화\n",
        "\n",
        "df_type = df.groupby('type')"
      ],
      "metadata": {
        "id": "wpAM7_VNHN8y"
      },
      "execution_count": null,
      "outputs": []
    },
    {
      "cell_type": "code",
      "source": [
        "# 결측지를 새로운 값 999.0으로 대체\n",
        "\n",
        "df_type = df.fillna(999.0)"
      ],
      "metadata": {
        "id": "KdZhCaIzGkML"
      },
      "execution_count": null,
      "outputs": []
    },
    {
      "cell_type": "code",
      "source": [
        "# 결측치를 포함하여 화재 타입에 따른 빈도 확인\n",
        "\n",
        "sns.countplot(x='type', data = df_type)"
      ],
      "metadata": {
        "colab": {
          "base_uri": "https://localhost:8080/",
          "height": 471
        },
        "id": "j8nnsBOLGrBS",
        "outputId": "9d8c58bd-d4ce-446a-d23b-b64b372f47b7"
      },
      "execution_count": 80,
      "outputs": [
        {
          "output_type": "execute_result",
          "data": {
            "text/plain": [
              "<Axes: xlabel='type', ylabel='count'>"
            ]
          },
          "metadata": {},
          "execution_count": 80
        },
        {
          "output_type": "display_data",
          "data": {
            "text/plain": [
              "<Figure size 640x480 with 1 Axes>"
            ],
            "image/png": "[encoded data removed]"
          },
          "metadata": {}
        }
      ]
    },
    {
      "cell_type": "markdown",
      "source": [
        "  * 결측치를 포함하여 각각의 화재 타입에 따른 빈도를 확인할 수 있다"
      ],
      "metadata": {
        "id": "ZrL5dHB_HtyI"
      }
    },
    {
      "cell_type": "code",
      "source": [
        "# 화재의 밝기와 화재 타입, 화재의 전력과 화재 타입의 상관 관계\n",
        "\n",
        "plt.subplot(1, 2, 1)\n",
        "sns.barplot(x='type', y='brightness', data=df)\n",
        "\n",
        "plt.subplot(1,2,2)\n",
        "sns.barplot(x='type', y='frp', data=df)"
      ],
      "metadata": {
        "id": "H30XxhAsSMPM",
        "colab": {
          "base_uri": "https://localhost:8080/",
          "height": 467
        },
        "outputId": "e8bd51bf-fa96-4076-acf8-a95b8cc09af1"
      },
      "execution_count": null,
      "outputs": [
        {
          "output_type": "execute_result",
          "data": {
            "text/plain": [
              "<Axes: xlabel='type', ylabel='frp'>"
            ]
          },
          "metadata": {},
          "execution_count": 39
        },
        {
          "output_type": "display_data",
          "data": {
            "text/plain": [
              "<Figure size 640x480 with 2 Axes>"
            ],
            "image/png": "[encoded data removed]"
          },
          "metadata": {}
        }
      ]
    },
    {
      "cell_type": "markdown",
      "source": [
        "  * 화재의 밝기는 화재 타입과는 큰 관련이 없고 화재의 전력은 화재 타입에 따라 다르다"
      ],
      "metadata": {
        "id": "wWQKqEbm9myZ"
      }
    },
    {
      "cell_type": "code",
      "source": [
        "# 가장 높은 화재 밝기 구하기\n",
        "\n",
        "max_brightness = df['brightness'].max()\n",
        "print(\"가장 높은 화재 밝기 :\", max_brightness, \"Kelvin\" )\n",
        "\n",
        "# 가장 높은 화재 전력 구하기\n",
        "\n",
        "max_frp = df['frp'].max()\n",
        "print(\"가장 높은 화재 전력 :\", max_frp, \"Megawatts\" )"
      ],
      "metadata": {
        "colab": {
          "base_uri": "https://localhost:8080/"
        },
        "id": "Sf1CSqF_2Lx6",
        "outputId": "834545b4-1874-459a-c971-5b1af8521fab"
      },
      "execution_count": null,
      "outputs": [
        {
          "output_type": "stream",
          "name": "stdout",
          "text": [
            "가장 높은 화재 밝기 : 503.53 Kelvin\n",
            "가장 높은 화재 전력 : 4816.68 Megawatts\n"
          ]
        }
      ]
    },
    {
      "cell_type": "code",
      "source": [
        "# 화재 밝기의 평균 구하기\n",
        "\n",
        "mean_brightness = df['brightness'].mean()\n",
        "print(\"화재 밝기 평균 :\", mean_brightness, \"Kelvin\" )\n",
        "\n",
        "# 화재 전력 평균 구하기\n",
        "\n",
        "mean_frp = df['frp'].mean()\n",
        "print(\"화재 전력 평균 :\", mean_frp, \"Megawatts\" )"
      ],
      "metadata": {
        "colab": {
          "base_uri": "https://localhost:8080/"
        },
        "id": "oNv0at55Czcu",
        "outputId": "9a2cdf10-180c-485f-d734-4ec466cf9e24"
      },
      "execution_count": null,
      "outputs": [
        {
          "output_type": "stream",
          "name": "stdout",
          "text": [
            "화재 밝기 평균 : 323.1034867894884 Kelvin\n",
            "화재 전력 평균 : 30.34167508246217 Megawatts\n"
          ]
        }
      ]
    },
    {
      "cell_type": "code",
      "source": [
        "# 데이터를 수집한 위성의 종류\n",
        "\n",
        "df['satellite'].unique()"
      ],
      "metadata": {
        "colab": {
          "base_uri": "https://localhost:8080/"
        },
        "id": "upVfpnDQDnM_",
        "outputId": "4d44135b-dab5-4841-bc48-f0f5c3aba3aa"
      },
      "execution_count": null,
      "outputs": [
        {
          "output_type": "execute_result",
          "data": {
            "text/plain": [
              "array(['Terra', 'Aqua'], dtype=object)"
            ]
          },
          "metadata": {},
          "execution_count": 47
        }
      ]
    },
    {
      "cell_type": "markdown",
      "source": [
        "  * 어느 위성이 더 일을 잘 할까"
      ],
      "metadata": {
        "id": "IH3WCIkfEY54"
      }
    },
    {
      "cell_type": "code",
      "source": [
        "# 각각의 위성이 감지한 화재의 수\n",
        "\n",
        "sns.countplot(x='satellite', data = df)"
      ],
      "metadata": {
        "colab": {
          "base_uri": "https://localhost:8080/",
          "height": 467
        },
        "id": "ISOQsqCJEFMN",
        "outputId": "a0d4a96b-e104-4f7c-bc5c-528444ba51ff"
      },
      "execution_count": null,
      "outputs": [
        {
          "output_type": "execute_result",
          "data": {
            "text/plain": [
              "<Axes: xlabel='satellite', ylabel='count'>"
            ]
          },
          "metadata": {},
          "execution_count": 48
        },
        {
          "output_type": "display_data",
          "data": {
            "text/plain": [
              "<Figure size 640x480 with 1 Axes>"
            ],
            "image/png": "[encoded data removed]"
          },
          "metadata": {}
        }
      ]
    },
    {
      "cell_type": "code",
      "source": [],
      "metadata": {
        "id": "ryif7irhEO5k"
      },
      "execution_count": null,
      "outputs": []
    }
  ]
}